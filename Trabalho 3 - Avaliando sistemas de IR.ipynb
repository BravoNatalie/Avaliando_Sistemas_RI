{
 "cells": [
  {
   "cell_type": "markdown",
   "metadata": {},
   "source": [
    "# Trabalho 3: Avaliando sistemas de IR\n",
    "\n",
    "Neste trabalho, o aluno irá explorar o problema de otimização de sistemas de IR através da análise de métricas de avaliação populares para esse tipo de sistema.\n",
    "\n",
    "Para isso, vamos usar a base CFC (com artigos sobre fibrose cística), a qual encontra-se nesta pasta.\n",
    "\n",
    "Observação: a idéia aqui é usar o jupyter para mostrar a evolução dos teus experimentos. Então use ele adequadamente. Ou seja, não altere funções do começo para reexecutar algo que foi feito lá embaixo. Neste caso, sobreescreva a função lá embaixo. A leitura do notebook tem que ser feita sequencialmente para ficar fácil, ok?\n",
    "\n",
    "\n",
    "## Passo 1 - Normalização\n",
    "\n",
    "Primeira coisa que você vai precisar fazer é ler os arquivos do CFC. Essa é uma parte meio braçal mesmo, mas não tem como escapar dela. Então você terá que criar funções que consigam ler cada arquivo do CFC e parsear eles.\n"
   ]
  },
  {
   "cell_type": "code",
   "execution_count": 41,
   "metadata": {},
   "outputs": [
    {
     "ename": "IndexError",
     "evalue": "list index out of range",
     "output_type": "error",
     "traceback": [
      "\u001b[0;31m---------------------------------------------------------------------------\u001b[0m",
      "\u001b[0;31mIndexError\u001b[0m                                Traceback (most recent call last)",
      "\u001b[0;32m<ipython-input-41-2f5cdd1f47dd>\u001b[0m in \u001b[0;36m<module>\u001b[0;34m()\u001b[0m\n\u001b[1;32m     69\u001b[0m             \u001b[0mvector\u001b[0m \u001b[0;34m=\u001b[0m \u001b[0;34m[\u001b[0m\u001b[0;34m]\u001b[0m\u001b[0;34m\u001b[0m\u001b[0m\n\u001b[1;32m     70\u001b[0m \u001b[0;34m\u001b[0m\u001b[0m\n\u001b[0;32m---> 71\u001b[0;31m         \u001b[0mvector\u001b[0m\u001b[0;34m.\u001b[0m\u001b[0mextend\u001b[0m\u001b[0;34m(\u001b[0m\u001b[0mconstructMatrix\u001b[0m\u001b[0;34m(\u001b[0m\u001b[0mline\u001b[0m\u001b[0;34m,\u001b[0m \u001b[0mcod\u001b[0m\u001b[0;34m)\u001b[0m\u001b[0;34m)\u001b[0m\u001b[0;34m\u001b[0m\u001b[0m\n\u001b[0m\u001b[1;32m     72\u001b[0m \u001b[0;34m\u001b[0m\u001b[0m\n\u001b[1;32m     73\u001b[0m \u001b[0;34m\u001b[0m\u001b[0m\n",
      "\u001b[0;32m<ipython-input-41-2f5cdd1f47dd>\u001b[0m in \u001b[0;36mconstructMatrix\u001b[0;34m(line, cod)\u001b[0m\n\u001b[1;32m     21\u001b[0m \u001b[0;34m\u001b[0m\u001b[0m\n\u001b[1;32m     22\u001b[0m     \u001b[0;32melif\u001b[0m\u001b[0;34m(\u001b[0m\u001b[0mcod\u001b[0m \u001b[0;34m==\u001b[0m \u001b[0;34m'AU'\u001b[0m\u001b[0;34m)\u001b[0m\u001b[0;34m:\u001b[0m\u001b[0;34m\u001b[0m\u001b[0m\n\u001b[0;32m---> 23\u001b[0;31m         \u001b[0;32mif\u001b[0m\u001b[0;34m(\u001b[0m\u001b[0mvector\u001b[0m\u001b[0;34m[\u001b[0m\u001b[0;36m3\u001b[0m\u001b[0;34m]\u001b[0m \u001b[0;34m==\u001b[0m \u001b[0;32mNone\u001b[0m\u001b[0;34m)\u001b[0m\u001b[0;34m:\u001b[0m\u001b[0;34m\u001b[0m\u001b[0m\n\u001b[0m\u001b[1;32m     24\u001b[0m             \u001b[0mvector\u001b[0m\u001b[0;34m.\u001b[0m\u001b[0minsert\u001b[0m\u001b[0;34m(\u001b[0m\u001b[0;36m3\u001b[0m\u001b[0;34m,\u001b[0m\u001b[0mline\u001b[0m\u001b[0;34m[\u001b[0m\u001b[0;36m3\u001b[0m\u001b[0;34m:\u001b[0m\u001b[0;34m]\u001b[0m\u001b[0;34m.\u001b[0m\u001b[0mrstrip\u001b[0m\u001b[0;34m(\u001b[0m\u001b[0;34m\"\\n\"\u001b[0m\u001b[0;34m)\u001b[0m\u001b[0;34m)\u001b[0m\u001b[0;34m\u001b[0m\u001b[0m\n\u001b[1;32m     25\u001b[0m         \u001b[0;32melse\u001b[0m\u001b[0;34m:\u001b[0m\u001b[0;34m\u001b[0m\u001b[0m\n",
      "\u001b[0;31mIndexError\u001b[0m: list index out of range"
     ]
    }
   ],
   "source": [
    "#códigos...\n",
    "import pandas as pd\n",
    "\n",
    "FILES = ['cfc/cf74', 'cfc/cf75', 'cfc/cf76', 'cfc/cf77', 'cfc/cf78', 'cfc/cf79']\n",
    "\n",
    "def constructMatrix(line, cod):\n",
    "    vector = []\n",
    "    \n",
    "    \n",
    "    if (cod.isspace()): \n",
    "        pass\n",
    "    \n",
    "    elif(cod == 'PN'):\n",
    "        vector.insert(0,line[3:].rstrip(\"\\n\"))\n",
    "        \n",
    "    elif(cod == 'RN'):\n",
    "        vector.insert(1,line[3:].rstrip(\"\\n\"))\n",
    "        \n",
    "    elif(cod == 'AN'):\n",
    "        vector.insert(2,line[3:].rstrip(\"\\n\"))\n",
    "        \n",
    "    elif(cod == 'AU'):\n",
    "        if(vector[3] == None):\n",
    "            vector.insert(3,line[3:].rstrip(\"\\n\"))\n",
    "        else:\n",
    "            vector[3] += line[3:]\n",
    "    \n",
    "    elif(cod == 'TI'):\n",
    "        vector.insert(4,line[3:].rstrip(\"\\n\"))\n",
    "        \n",
    "    elif(cod == 'SO'):\n",
    "        vector.insert(5,line[3:].rstrip(\"\\n\"))\n",
    "        \n",
    "    elif(cod == 'MJ'):\n",
    "        vector.insert(6,line[3:].rstrip(\"\\n\"))\n",
    "    \n",
    "    elif(cod == 'MN'):\n",
    "        vector.insert(7,line[3:].rstrip(\"\\n\"))\n",
    "        \n",
    "    elif((cod == 'AB') or (cod == 'EX')):\n",
    "        vector.insert(8,line[3:].rstrip(\"\\n\"))\n",
    "        \n",
    "    elif(cod == 'RF'):\n",
    "        vector.insert(9,line[3:].rstrip(\"\\n\"))\n",
    "        \n",
    "    elif(cod == 'CT'):\n",
    "        vector.insert(10,line[3:].rstrip(\"\\n\"))\n",
    "    else:\n",
    "        pass\n",
    "    \n",
    "    return vector\n",
    "\n",
    "#for file in FILES:\n",
    "matrix = []\n",
    "\n",
    "with open('cfc/cf74', 'r', encoding = 'iso-8859-1') as fp:\n",
    "    line = fp.readline()\n",
    "    cod = line[:2]\n",
    "    vector = constructMatrix(line, cod)\n",
    "    \n",
    "    while line:\n",
    "        line = fp.readline()\n",
    "        #print(line[:2])\n",
    "        if not((line[:2]).isspace()):\n",
    "            cod = line[:2]\n",
    "            \n",
    "        if((line == \"\\n\") and (vector != [])):\n",
    "            matrix.append(vector)\n",
    "            vector = []\n",
    "            \n",
    "        vector.extend(constructMatrix(line, cod))\n",
    "    \n",
    "    \n",
    "fp.close() \n",
    "\n",
    "print(matrix[0][4])\n",
    "pd.DataFrame(matrix)       "
   ]
  },
  {
   "cell_type": "markdown",
   "metadata": {},
   "source": [
    "## Passo 2 - Primeira indexação\n",
    "\n",
    "Depois de parsear os arquivos, agora é hora de indexar os dados. Ao invés de criar o código do zero, vamos usar o Whoosh, que é uma implementação em python inspirada no Lucene. A documentação pode ser encontrada em https://whoosh.readthedocs.io/en/latest/index.html.\n",
    "\n",
    "Nesta questão de indexação, temos que fazer algumas escolhas: \n",
    "* Como fazer o processo de tokenização? \n",
    "* Stemmizar ou não stemmizar, eis a questão...\n",
    "* Quais campos são úteis para indexação?\n",
    "\n",
    "Neste momento, você vai tomar suas decisões iniciais. A ideia é você testar, depois, outras soluções para verificar quais tiveram os melhores resultados, entendeu? Então não esqueça de documentar, aqui, qual a sua decisão inicial e depois ir explicando ao longo do notebook os experimentos que está fazendo."
   ]
  },
  {
   "cell_type": "code",
   "execution_count": null,
   "metadata": {},
   "outputs": [],
   "source": [
    "#códigos..."
   ]
  },
  {
   "cell_type": "markdown",
   "metadata": {},
   "source": [
    "## Passo 3 - Calculando as métricas de avaliação\n",
    "\n",
    "Para avaliar a tua decisão, vamos usar como métricas a precisão, recall e f-measure. Faça uma variação da precisão e recall como P@n e R@n, pois serão úteis para os gráficos que serão gerados. "
   ]
  },
  {
   "cell_type": "code",
   "execution_count": null,
   "metadata": {},
   "outputs": [],
   "source": [
    "#códigos..."
   ]
  },
  {
   "cell_type": "markdown",
   "metadata": {},
   "source": [
    "## Passo 4 - Gráficos do experimento 1\n",
    "\n",
    "Apresentar agora os gráficos do teu experimento. Você deve gerar um gráfico PxR, como visto em sala. Para gerar gráficos, você pode usar o matplotlib. Se quiser usar outra biblioteca que ache mais fácil, sem problemas!"
   ]
  },
  {
   "cell_type": "code",
   "execution_count": null,
   "metadata": {},
   "outputs": [],
   "source": [
    "# códigos..."
   ]
  },
  {
   "cell_type": "markdown",
   "metadata": {},
   "source": [
    "## Passo 5 - Demais experimentos\n",
    "\n",
    "Agora você irá testar novas configurações de campos e configurações para tentar encontrar qual a que te dá melhores resultados. Mostrar, como um relatório, a evolução do trabalho. Ou seja, mostrar como o trabalho foi evoluindo para você alcançar o melhor resultado (quais modificações foram feitas, como cada modificação influenciou nas métricas, etc)."
   ]
  },
  {
   "cell_type": "code",
   "execution_count": null,
   "metadata": {},
   "outputs": [],
   "source": [
    "# códigos..."
   ]
  },
  {
   "cell_type": "markdown",
   "metadata": {},
   "source": [
    "## Passo 6 - Quantos resultados eu devo voltar para o usuário?\n",
    "\n",
    "Um dos problemas de sistemas de IR é determinar quantos resultados você deve retornar ao usuário. Uma forma de entender o comportamento do sistema e qual o corte ideal na lista resultante é através do uso de curvas ROC. Assim, plote a curva ROC do teu sistema e determine, através da análise da curva, qual o ponto ideal de corte para o teu sistema."
   ]
  },
  {
   "cell_type": "code",
   "execution_count": null,
   "metadata": {},
   "outputs": [],
   "source": [
    "# códigos..."
   ]
  },
  {
   "cell_type": "code",
   "execution_count": null,
   "metadata": {},
   "outputs": [],
   "source": []
  },
  {
   "cell_type": "code",
   "execution_count": null,
   "metadata": {},
   "outputs": [],
   "source": []
  },
  {
   "cell_type": "code",
   "execution_count": null,
   "metadata": {},
   "outputs": [],
   "source": []
  },
  {
   "cell_type": "code",
   "execution_count": null,
   "metadata": {},
   "outputs": [],
   "source": []
  },
  {
   "cell_type": "code",
   "execution_count": null,
   "metadata": {},
   "outputs": [],
   "source": []
  },
  {
   "cell_type": "code",
   "execution_count": null,
   "metadata": {},
   "outputs": [],
   "source": []
  },
  {
   "cell_type": "code",
   "execution_count": null,
   "metadata": {},
   "outputs": [],
   "source": []
  },
  {
   "cell_type": "code",
   "execution_count": null,
   "metadata": {},
   "outputs": [],
   "source": []
  },
  {
   "cell_type": "code",
   "execution_count": null,
   "metadata": {},
   "outputs": [],
   "source": []
  }
 ],
 "metadata": {
  "kernelspec": {
   "display_name": "Python 3",
   "language": "python",
   "name": "python3"
  },
  "language_info": {
   "codemirror_mode": {
    "name": "ipython",
    "version": 3
   },
   "file_extension": ".py",
   "mimetype": "text/x-python",
   "name": "python",
   "nbconvert_exporter": "python",
   "pygments_lexer": "ipython3",
   "version": "3.6.5"
  }
 },
 "nbformat": 4,
 "nbformat_minor": 2
}
